{
 "cells": [
  {
   "cell_type": "code",
   "execution_count": 34,
   "id": "b6626851",
   "metadata": {},
   "outputs": [],
   "source": [
    "economic_states = {\n",
    "    '通胀上升+增长上升': ['商品', '周期股'],\n",
    "    '通胀下降+增长上升': ['股票', '信用债'],\n",
    "    '通胀上升+增长下降': ['黄金', '国债'],\n",
    "    '通胀下降+增长下降': ['国债', '防御股']\n",
    "}\n",
    "\n",
    "\n",
    "import os\n",
    "import shutil\n",
    "import pandas as pd\n",
    "import yfinance as yf\n",
    "import riskfolio as rp\n",
    "from pypfopt import risk_models\n",
    "from pypfopt import EfficientFrontier\n",
    "from pypfopt import objective_functions"
   ]
  },
  {
   "cell_type": "code",
   "execution_count": 35,
   "id": "b0e79dd1",
   "metadata": {},
   "outputs": [],
   "source": [
    "# Ensure directories for backup and operation exist\n",
    "backup_dir = \"backup_data\"\n",
    "operated_dir = \"operated_data\"\n",
    "os.makedirs(backup_dir, exist_ok=True)\n",
    "os.makedirs(operated_dir, exist_ok=True)\n",
    "\n",
    "# Function to load data from backup or download if not available\n",
    "def load_or_download_data(filename, tickers, start=None, end=None, period=None):\n",
    "    backup_path = os.path.join(backup_dir, filename)\n",
    "    operated_path = os.path.join(operated_dir, filename)\n",
    "\n",
    "    # Check if backup exists\n",
    "    if os.path.exists(backup_path):\n",
    "        print(f\"Loading data from backup: {backup_path}\")\n",
    "        # Copy backup to operated directory\n",
    "        shutil.copy(backup_path, operated_path)\n",
    "    else:\n",
    "        print(f\"Downloading data for: {tickers}\")\n",
    "        if period:\n",
    "            data = yf.download(tickers, period=period)['Adj Close']\n",
    "        else:\n",
    "            data = yf.download(tickers, start=start, end=end)['Adj Close']\n",
    "        # Save to backup and operated directories\n",
    "        data.to_csv(backup_path)\n",
    "        shutil.copy(backup_path, operated_path)\n",
    "\n",
    "    # Load data from operated directory\n",
    "    return pd.read_csv(operated_path, index_col=0, parse_dates=True)"
   ]
  },
  {
   "cell_type": "code",
   "execution_count": 36,
   "id": "96bb80ef",
   "metadata": {},
   "outputs": [
    {
     "name": "stderr",
     "output_type": "stream",
     "text": [
      "[*********************100%***********************]  1 of 1 completed\n",
      "\n",
      "1 Failed download:\n",
      "['AAPL']: YFRateLimitError('Too Many Requests. Rate limited. Try after a while.')\n"
     ]
    }
   ],
   "source": [
    "\n",
    "# 获取宏观经济数据（示例：中美30年期国债利差）\n",
    "data = yf.download(['AAPL'], start='1995-01-01')['Adj Close']"
   ]
  },
  {
   "cell_type": "code",
   "execution_count": 37,
   "id": "8063e740",
   "metadata": {},
   "outputs": [
    {
     "name": "stdout",
     "output_type": "stream",
     "text": [
      "Loading data from backup: backup_data\\macro_data.csv\n"
     ]
    },
    {
     "name": "stderr",
     "output_type": "stream",
     "text": [
      "C:\\Users\\hellokitty\\AppData\\Local\\Temp\\ipykernel_11204\\1376881574.py:28: UserWarning: Could not infer format, so each element will be parsed individually, falling back to `dateutil`. To ensure parsing is consistent and as-expected, please specify a format.\n",
      "  return pd.read_csv(operated_path, index_col=0, parse_dates=True)\n"
     ]
    }
   ],
   "source": [
    "macro_data_file = 'macro_data.csv'\n",
    "macro_data = load_or_download_data(macro_data_file, ['^FVX', '^TNX'], start='1995-01-01')"
   ]
  },
  {
   "cell_type": "code",
   "execution_count": 38,
   "id": "11155bed",
   "metadata": {},
   "outputs": [
    {
     "name": "stderr",
     "output_type": "stream",
     "text": [
      "C:\\Users\\hellokitty\\AppData\\Local\\Temp\\ipykernel_11204\\1376881574.py:28: UserWarning: Could not infer format, so each element will be parsed individually, falling back to `dateutil`. To ensure parsing is consistent and as-expected, please specify a format.\n",
      "  return pd.read_csv(operated_path, index_col=0, parse_dates=True)\n"
     ]
    },
    {
     "name": "stdout",
     "output_type": "stream",
     "text": [
      "Loading data from backup: backup_data\\debt_spread.csv\n"
     ]
    }
   ],
   "source": [
    "# 计算美债-中债利差\n",
    "debt_spread_file = 'debt_spread.csv'\n",
    "debt_spread = load_or_download_data(debt_spread_file, ['^FVX', '^TNX'], start='1995-01-01')"
   ]
  },
  {
   "cell_type": "code",
   "execution_count": 39,
   "id": "41dd2bf7",
   "metadata": {},
   "outputs": [
    {
     "name": "stdout",
     "output_type": "stream",
     "text": [
      "Loading data from backup: backup_data\\asset_returns.csv\n"
     ]
    },
    {
     "name": "stderr",
     "output_type": "stream",
     "text": [
      "C:\\Users\\hellokitty\\AppData\\Local\\Temp\\ipykernel_11204\\1376881574.py:28: UserWarning: Could not infer format, so each element will be parsed individually, falling back to `dateutil`. To ensure parsing is consistent and as-expected, please specify a format.\n",
      "  return pd.read_csv(operated_path, index_col=0, parse_dates=True)\n"
     ]
    }
   ],
   "source": [
    "\n",
    "# 配置四大类资产\n",
    "assets = ['SPY', 'TLT', 'GLD', 'GSG']\n",
    "returns_file = 'asset_returns.csv'\n",
    "returns = load_or_download_data(returns_file, assets, period='30y') # .pct_change().dropna()"
   ]
  },
  {
   "cell_type": "code",
   "execution_count": 40,
   "id": "fee15d7d",
   "metadata": {},
   "outputs": [],
   "source": [
    "# Convert all columns in the returns DataFrame to numeric\n",
    "returns = returns.apply(pd.to_numeric, errors='coerce')\n",
    "\n",
    "# Calculate percentage change and drop NaN values\n",
    "returns = returns.pct_change().dropna()"
   ]
  },
  {
   "cell_type": "code",
   "execution_count": 41,
   "id": "c19a05f9",
   "metadata": {},
   "outputs": [
    {
     "data": {
      "application/vnd.microsoft.datawrangler.viewer.v0+json": {
       "columns": [
        {
         "name": "index",
         "rawType": "object",
         "type": "string"
        },
        {
         "name": "weights",
         "rawType": "float64",
         "type": "float"
        }
       ],
       "conversionMethod": "pd.DataFrame",
       "ref": "e05b5d2c-96e9-49c2-a85d-4c6497349d80",
       "rows": [
        [
         "Close",
         "0.04979202041428109"
        ],
        [
         "Close.1",
         "0.04226214275715234"
        ],
        [
         "Close.2",
         "0.07270718005008693"
        ],
        [
         "Close.3",
         "0.08774717072309592"
        ],
        [
         "High",
         "0.045572863479502485"
        ],
        [
         "High.1",
         "0.040278859520200425"
        ],
        [
         "High.2",
         "0.06301514534279176"
        ],
        [
         "High.3",
         "0.0792752698932685"
        ],
        [
         "Low",
         "0.05187078302057127"
        ],
        [
         "Low.1",
         "0.04203077722862843"
        ],
        [
         "Low.2",
         "0.071785070908194"
        ],
        [
         "Low.3",
         "0.09830314721191821"
        ],
        [
         "Open",
         "0.05096009191776991"
        ],
        [
         "Open.1",
         "0.04202941158968744"
        ],
        [
         "Open.2",
         "0.058854512392811"
        ],
        [
         "Open.3",
         "0.09639567144397854"
        ],
        [
         "Volume",
         "0.0017615846543397606"
        ],
        [
         "Volume.1",
         "0.0005650106591685031"
        ],
        [
         "Volume.2",
         "0.0029159457404275154"
        ],
        [
         "Volume.3",
         "0.0018773410521260151"
        ]
       ],
       "shape": {
        "columns": 1,
        "rows": 20
       }
      },
      "text/html": [
       "<div>\n",
       "<style scoped>\n",
       "    .dataframe tbody tr th:only-of-type {\n",
       "        vertical-align: middle;\n",
       "    }\n",
       "\n",
       "    .dataframe tbody tr th {\n",
       "        vertical-align: top;\n",
       "    }\n",
       "\n",
       "    .dataframe thead th {\n",
       "        text-align: right;\n",
       "    }\n",
       "</style>\n",
       "<table border=\"1\" class=\"dataframe\">\n",
       "  <thead>\n",
       "    <tr style=\"text-align: right;\">\n",
       "      <th></th>\n",
       "      <th>weights</th>\n",
       "    </tr>\n",
       "  </thead>\n",
       "  <tbody>\n",
       "    <tr>\n",
       "      <th>Close</th>\n",
       "      <td>0.049792</td>\n",
       "    </tr>\n",
       "    <tr>\n",
       "      <th>Close.1</th>\n",
       "      <td>0.042262</td>\n",
       "    </tr>\n",
       "    <tr>\n",
       "      <th>Close.2</th>\n",
       "      <td>0.072707</td>\n",
       "    </tr>\n",
       "    <tr>\n",
       "      <th>Close.3</th>\n",
       "      <td>0.087747</td>\n",
       "    </tr>\n",
       "    <tr>\n",
       "      <th>High</th>\n",
       "      <td>0.045573</td>\n",
       "    </tr>\n",
       "    <tr>\n",
       "      <th>High.1</th>\n",
       "      <td>0.040279</td>\n",
       "    </tr>\n",
       "    <tr>\n",
       "      <th>High.2</th>\n",
       "      <td>0.063015</td>\n",
       "    </tr>\n",
       "    <tr>\n",
       "      <th>High.3</th>\n",
       "      <td>0.079275</td>\n",
       "    </tr>\n",
       "    <tr>\n",
       "      <th>Low</th>\n",
       "      <td>0.051871</td>\n",
       "    </tr>\n",
       "    <tr>\n",
       "      <th>Low.1</th>\n",
       "      <td>0.042031</td>\n",
       "    </tr>\n",
       "    <tr>\n",
       "      <th>Low.2</th>\n",
       "      <td>0.071785</td>\n",
       "    </tr>\n",
       "    <tr>\n",
       "      <th>Low.3</th>\n",
       "      <td>0.098303</td>\n",
       "    </tr>\n",
       "    <tr>\n",
       "      <th>Open</th>\n",
       "      <td>0.050960</td>\n",
       "    </tr>\n",
       "    <tr>\n",
       "      <th>Open.1</th>\n",
       "      <td>0.042029</td>\n",
       "    </tr>\n",
       "    <tr>\n",
       "      <th>Open.2</th>\n",
       "      <td>0.058855</td>\n",
       "    </tr>\n",
       "    <tr>\n",
       "      <th>Open.3</th>\n",
       "      <td>0.096396</td>\n",
       "    </tr>\n",
       "    <tr>\n",
       "      <th>Volume</th>\n",
       "      <td>0.001762</td>\n",
       "    </tr>\n",
       "    <tr>\n",
       "      <th>Volume.1</th>\n",
       "      <td>0.000565</td>\n",
       "    </tr>\n",
       "    <tr>\n",
       "      <th>Volume.2</th>\n",
       "      <td>0.002916</td>\n",
       "    </tr>\n",
       "    <tr>\n",
       "      <th>Volume.3</th>\n",
       "      <td>0.001877</td>\n",
       "    </tr>\n",
       "  </tbody>\n",
       "</table>\n",
       "</div>"
      ],
      "text/plain": [
       "           weights\n",
       "Close     0.049792\n",
       "Close.1   0.042262\n",
       "Close.2   0.072707\n",
       "Close.3   0.087747\n",
       "High      0.045573\n",
       "High.1    0.040279\n",
       "High.2    0.063015\n",
       "High.3    0.079275\n",
       "Low       0.051871\n",
       "Low.1     0.042031\n",
       "Low.2     0.071785\n",
       "Low.3     0.098303\n",
       "Open      0.050960\n",
       "Open.1    0.042029\n",
       "Open.2    0.058855\n",
       "Open.3    0.096396\n",
       "Volume    0.001762\n",
       "Volume.1  0.000565\n",
       "Volume.2  0.002916\n",
       "Volume.3  0.001877"
      ]
     },
     "execution_count": 41,
     "metadata": {},
     "output_type": "execute_result"
    }
   ],
   "source": [
    "# 风险平价优化\n",
    "port = rp.Portfolio(returns=returns)\n",
    "port.assets_stats(method_cov='hist')  # 使用EWMA协方差矩阵\n",
    "port.rp_optimization(model='Classic', rm='MV', rf=0, b=None, hist=True)  # Corrected arguments"
   ]
  },
  {
   "cell_type": "code",
   "execution_count": 42,
   "id": "7b756065",
   "metadata": {},
   "outputs": [],
   "source": [
    "# assets = ['SPY', 'TLT', 'GLD', 'GSG']\n",
    "# # 获取多资产数据（含股债商品）\n",
    "# prices_file = 'prices.csv'\n",
    "# prices = load_or_download_data(prices_file, assets, start=\"1995-01-01\", end=\"2025-04-18\")\n",
    "prices = returns"
   ]
  },
  {
   "cell_type": "code",
   "execution_count": 33,
   "id": "ee7e7a20",
   "metadata": {},
   "outputs": [],
   "source": [
    "from pypfopt.hierarchical_portfolio import HRPOpt"
   ]
  },
  {
   "cell_type": "code",
   "execution_count": 44,
   "id": "5290833d",
   "metadata": {},
   "outputs": [
    {
     "name": "stdout",
     "output_type": "stream",
     "text": [
      "分层风险平价权重: OrderedDict({'Close': 0.04807, 'Close.1': 0.02436, 'Close.2': 0.03247, 'Close.3': 0.09045, 'High': 0.07818, 'High.1': 0.03351, 'High.2': 0.07524, 'High.3': 0.05967, 'Low': 0.04911, 'Low.1': 0.02647, 'Low.2': 0.05144, 'Low.3': 0.06203, 'Open': 0.07094, 'Open.1': 0.02284, 'Open.2': 0.07099, 'Open.3': 0.2041, 'Volume': 0.0, 'Volume.1': 0.0, 'Volume.2': 0.0, 'Volume.3': 0.0})\n"
     ]
    }
   ],
   "source": [
    "\n",
    "# 创建HRP优化器\n",
    "hrp = HRPOpt(returns=returns)\n",
    "\n",
    "# 改进点：使用Ward方差最小化聚类法\n",
    "hrp.optimize(linkage_method='ward')\n",
    "print(\"分层风险平价权重:\", hrp.clean_weights())\n"
   ]
  },
  {
   "cell_type": "code",
   "execution_count": null,
   "id": "492ef5f8",
   "metadata": {},
   "outputs": [
    {
     "ename": "AttributeError",
     "evalue": "'HRPOpt' object has no attribute 'plot_dendrogram'",
     "output_type": "error",
     "traceback": [
      "\u001b[1;31m---------------------------------------------------------------------------\u001b[0m",
      "\u001b[1;31mAttributeError\u001b[0m                            Traceback (most recent call last)",
      "Cell \u001b[1;32mIn[47], line 10\u001b[0m\n\u001b[0;32m      1\u001b[0m \u001b[38;5;66;03m# 可视化树状图\u001b[39;00m\n\u001b[0;32m      2\u001b[0m \u001b[38;5;66;03m# import matplotlib.pyplot as plt\u001b[39;00m\n\u001b[0;32m      3\u001b[0m \u001b[38;5;66;03m# import scipy.cluster.hierarchy as sch\u001b[39;00m\n\u001b[1;32m   (...)\u001b[0m\n\u001b[0;32m      7\u001b[0m \u001b[38;5;66;03m# from sklearn.preprocessing import StandardScaler\u001b[39;00m\n\u001b[0;32m      8\u001b[0m \u001b[38;5;66;03m# from sklearn.decomposition import PCA       \u001b[39;00m\n\u001b[1;32m---> 10\u001b[0m plot \u001b[38;5;241m=\u001b[39mhrp\u001b[38;5;241m.\u001b[39mplot_dendrogram()\n",
      "\u001b[1;31mAttributeError\u001b[0m: 'HRPOpt' object has no attribute 'plot_dendrogram'"
     ]
    }
   ],
   "source": [
    "\n",
    "# plot culster for hrp.clean_weights()\n",
    "import matplotlib.pyplot as plt\n",
    "# plt show cluster_map(hrp.cluster_map())\n",
    "\n"
   ]
  },
  {
   "cell_type": "code",
   "execution_count": 52,
   "id": "83638790",
   "metadata": {},
   "outputs": [],
   "source": [
    "\n",
    "# Handle missing values in the prices DataFrame\n",
    "prices_cleaned = prices.dropna()\n"
   ]
  },
  {
   "cell_type": "code",
   "execution_count": 54,
   "id": "3d80f432",
   "metadata": {},
   "outputs": [],
   "source": [
    "\n",
    "# Ledoit-Wolf 收缩估计（改进协方差矩阵稳定性）\n",
    "# Ensure there are no missing values in prices_cleaned\n",
    "prices_cleaned = prices_cleaned.dropna()\n",
    "\n",
    "# Ledoit-Wolf 收缩估计（改进协方差矩阵稳定性）\n",
    "# Remove rows where all values are zero\n",
    "prices_cleaned = prices_cleaned[(prices_cleaned != 0).any(axis=1)]\n"
   ]
  },
  {
   "cell_type": "code",
   "execution_count": 61,
   "id": "b37eec8e",
   "metadata": {},
   "outputs": [],
   "source": [
    "\n",
    "# 结合半定规划优化\n",
    "hrp = HRPOpt(returns=prices_cleaned) #.pct_change())\n",
    "hrp.optimize()\n",
    "\n",
    "# 创建风险平价与均值方差混合模型\n",
    "# Calculate the covariance matrix from the returns DataFrame\n",
    "cov_matrix = prices_cleaned.cov()\n",
    "\n",
    "ef = EfficientFrontier(None, cov_matrix)  # 不依赖收益率预测\n",
    "# 添加无风险利率目标函数  \n",
    "# ef.add_objective(objective_functions.risk_free_rate, risk_free_rate=0.02)  # 设置无风险利率\n",
    "# ef.add_objective(objective_functions.risk_aversion, risk_aversion=0.95)  # 设置风险厌恶系数 "
   ]
  },
  {
   "cell_type": "code",
   "execution_count": 63,
   "id": "69dec6e7",
   "metadata": {},
   "outputs": [],
   "source": [
    "\n",
    "\n",
    "\n",
    "# 添加流动性约束（假设流动性数据）\n",
    "liquidity = {\"SPY\": 0.9, \"TLT\": 0.7, \"GLD\": 0.6, \"GSG\": 0.5}\n",
    "ef.add_constraint(lambda w: sum([w[i] * liquidity[asset] for i, asset in enumerate(assets)]) >= 0.8)\n"
   ]
  },
  {
   "cell_type": "code",
   "execution_count": 72,
   "id": "f8725777",
   "metadata": {},
   "outputs": [
    {
     "ename": "TypeError",
     "evalue": "<lambda>() takes 1 positional argument but 2 were given",
     "output_type": "error",
     "traceback": [
      "\u001b[1;31m---------------------------------------------------------------------------\u001b[0m",
      "\u001b[1;31mTypeError\u001b[0m                                 Traceback (most recent call last)",
      "Cell \u001b[1;32mIn[72], line 2\u001b[0m\n\u001b[0;32m      1\u001b[0m \u001b[38;5;66;03m# 求解优化问题\u001b[39;00m\n\u001b[1;32m----> 2\u001b[0m weights \u001b[38;5;241m=\u001b[39m ef\u001b[38;5;241m.\u001b[39mnonconvex_objective(\u001b[38;5;28;01mlambda\u001b[39;00m w: objective_functions\u001b[38;5;241m.\u001b[39msharpe_ratio(w, returns, cov_matrix), weights_sum_to_one\u001b[38;5;241m=\u001b[39m\u001b[38;5;28;01mTrue\u001b[39;00m)\n",
      "File \u001b[1;32m~\\AppData\\Roaming\\Python\\Python312\\site-packages\\pypfopt\\base_optimizer.py:503\u001b[0m, in \u001b[0;36mBaseConvexOptimizer.nonconvex_objective\u001b[1;34m(self, custom_objective, objective_args, weights_sum_to_one, constraints, solver, initial_guess)\u001b[0m\n\u001b[0;32m    500\u001b[0m \u001b[38;5;28;01mif\u001b[39;00m constraints \u001b[38;5;129;01mis\u001b[39;00m \u001b[38;5;129;01mnot\u001b[39;00m \u001b[38;5;28;01mNone\u001b[39;00m:\n\u001b[0;32m    501\u001b[0m     final_constraints \u001b[38;5;241m+\u001b[39m\u001b[38;5;241m=\u001b[39m constraints\n\u001b[1;32m--> 503\u001b[0m result \u001b[38;5;241m=\u001b[39m sco\u001b[38;5;241m.\u001b[39mminimize(\n\u001b[0;32m    504\u001b[0m     custom_objective,\n\u001b[0;32m    505\u001b[0m     x0\u001b[38;5;241m=\u001b[39minitial_guess,\n\u001b[0;32m    506\u001b[0m     args\u001b[38;5;241m=\u001b[39mobjective_args,\n\u001b[0;32m    507\u001b[0m     method\u001b[38;5;241m=\u001b[39msolver,\n\u001b[0;32m    508\u001b[0m     bounds\u001b[38;5;241m=\u001b[39mbounds,\n\u001b[0;32m    509\u001b[0m     constraints\u001b[38;5;241m=\u001b[39mfinal_constraints,\n\u001b[0;32m    510\u001b[0m )\n\u001b[0;32m    511\u001b[0m \u001b[38;5;28mself\u001b[39m\u001b[38;5;241m.\u001b[39mweights \u001b[38;5;241m=\u001b[39m result[\u001b[38;5;124m\"\u001b[39m\u001b[38;5;124mx\u001b[39m\u001b[38;5;124m\"\u001b[39m]\n\u001b[0;32m    512\u001b[0m \u001b[38;5;28;01mreturn\u001b[39;00m \u001b[38;5;28mself\u001b[39m\u001b[38;5;241m.\u001b[39m_make_output_weights()\n",
      "File \u001b[1;32mc:\\ProgramData\\anaconda3\\Lib\\site-packages\\scipy\\optimize\\_minimize.py:722\u001b[0m, in \u001b[0;36mminimize\u001b[1;34m(fun, x0, args, method, jac, hess, hessp, bounds, constraints, tol, callback, options)\u001b[0m\n\u001b[0;32m    719\u001b[0m     res \u001b[38;5;241m=\u001b[39m _minimize_cobyla(fun, x0, args, constraints, callback\u001b[38;5;241m=\u001b[39mcallback,\n\u001b[0;32m    720\u001b[0m                            bounds\u001b[38;5;241m=\u001b[39mbounds, \u001b[38;5;241m*\u001b[39m\u001b[38;5;241m*\u001b[39moptions)\n\u001b[0;32m    721\u001b[0m \u001b[38;5;28;01melif\u001b[39;00m meth \u001b[38;5;241m==\u001b[39m \u001b[38;5;124m'\u001b[39m\u001b[38;5;124mslsqp\u001b[39m\u001b[38;5;124m'\u001b[39m:\n\u001b[1;32m--> 722\u001b[0m     res \u001b[38;5;241m=\u001b[39m _minimize_slsqp(fun, x0, args, jac, bounds,\n\u001b[0;32m    723\u001b[0m                           constraints, callback\u001b[38;5;241m=\u001b[39mcallback, \u001b[38;5;241m*\u001b[39m\u001b[38;5;241m*\u001b[39moptions)\n\u001b[0;32m    724\u001b[0m \u001b[38;5;28;01melif\u001b[39;00m meth \u001b[38;5;241m==\u001b[39m \u001b[38;5;124m'\u001b[39m\u001b[38;5;124mtrust-constr\u001b[39m\u001b[38;5;124m'\u001b[39m:\n\u001b[0;32m    725\u001b[0m     res \u001b[38;5;241m=\u001b[39m _minimize_trustregion_constr(fun, x0, args, jac, hess, hessp,\n\u001b[0;32m    726\u001b[0m                                        bounds, constraints,\n\u001b[0;32m    727\u001b[0m                                        callback\u001b[38;5;241m=\u001b[39mcallback, \u001b[38;5;241m*\u001b[39m\u001b[38;5;241m*\u001b[39moptions)\n",
      "File \u001b[1;32mc:\\ProgramData\\anaconda3\\Lib\\site-packages\\scipy\\optimize\\_slsqp_py.py:383\u001b[0m, in \u001b[0;36m_minimize_slsqp\u001b[1;34m(func, x0, args, jac, bounds, constraints, maxiter, ftol, iprint, disp, eps, callback, finite_diff_rel_step, **unknown_options)\u001b[0m\n\u001b[0;32m    380\u001b[0m     xu[infbnd[:, \u001b[38;5;241m1\u001b[39m]] \u001b[38;5;241m=\u001b[39m np\u001b[38;5;241m.\u001b[39mnan\n\u001b[0;32m    382\u001b[0m \u001b[38;5;66;03m# ScalarFunction provides function and gradient evaluation\u001b[39;00m\n\u001b[1;32m--> 383\u001b[0m sf \u001b[38;5;241m=\u001b[39m _prepare_scalar_function(func, x, jac\u001b[38;5;241m=\u001b[39mjac, args\u001b[38;5;241m=\u001b[39margs, epsilon\u001b[38;5;241m=\u001b[39meps,\n\u001b[0;32m    384\u001b[0m                               finite_diff_rel_step\u001b[38;5;241m=\u001b[39mfinite_diff_rel_step,\n\u001b[0;32m    385\u001b[0m                               bounds\u001b[38;5;241m=\u001b[39mnew_bounds)\n\u001b[0;32m    386\u001b[0m \u001b[38;5;66;03m# gh11403 SLSQP sometimes exceeds bounds by 1 or 2 ULP, make sure this\u001b[39;00m\n\u001b[0;32m    387\u001b[0m \u001b[38;5;66;03m# doesn't get sent to the func/grad evaluator.\u001b[39;00m\n\u001b[0;32m    388\u001b[0m wrapped_fun \u001b[38;5;241m=\u001b[39m _clip_x_for_func(sf\u001b[38;5;241m.\u001b[39mfun, new_bounds)\n",
      "File \u001b[1;32mc:\\ProgramData\\anaconda3\\Lib\\site-packages\\scipy\\optimize\\_optimize.py:288\u001b[0m, in \u001b[0;36m_prepare_scalar_function\u001b[1;34m(fun, x0, jac, args, bounds, epsilon, finite_diff_rel_step, hess)\u001b[0m\n\u001b[0;32m    284\u001b[0m     bounds \u001b[38;5;241m=\u001b[39m (\u001b[38;5;241m-\u001b[39mnp\u001b[38;5;241m.\u001b[39minf, np\u001b[38;5;241m.\u001b[39minf)\n\u001b[0;32m    286\u001b[0m \u001b[38;5;66;03m# ScalarFunction caches. Reuse of fun(x) during grad\u001b[39;00m\n\u001b[0;32m    287\u001b[0m \u001b[38;5;66;03m# calculation reduces overall function evaluations.\u001b[39;00m\n\u001b[1;32m--> 288\u001b[0m sf \u001b[38;5;241m=\u001b[39m ScalarFunction(fun, x0, args, grad, hess,\n\u001b[0;32m    289\u001b[0m                     finite_diff_rel_step, bounds, epsilon\u001b[38;5;241m=\u001b[39mepsilon)\n\u001b[0;32m    291\u001b[0m \u001b[38;5;28;01mreturn\u001b[39;00m sf\n",
      "File \u001b[1;32mc:\\ProgramData\\anaconda3\\Lib\\site-packages\\scipy\\optimize\\_differentiable_functions.py:166\u001b[0m, in \u001b[0;36mScalarFunction.__init__\u001b[1;34m(self, fun, x0, args, grad, hess, finite_diff_rel_step, finite_diff_bounds, epsilon)\u001b[0m\n\u001b[0;32m    163\u001b[0m     \u001b[38;5;28mself\u001b[39m\u001b[38;5;241m.\u001b[39mf \u001b[38;5;241m=\u001b[39m fun_wrapped(\u001b[38;5;28mself\u001b[39m\u001b[38;5;241m.\u001b[39mx)\n\u001b[0;32m    165\u001b[0m \u001b[38;5;28mself\u001b[39m\u001b[38;5;241m.\u001b[39m_update_fun_impl \u001b[38;5;241m=\u001b[39m update_fun\n\u001b[1;32m--> 166\u001b[0m \u001b[38;5;28mself\u001b[39m\u001b[38;5;241m.\u001b[39m_update_fun()\n\u001b[0;32m    168\u001b[0m \u001b[38;5;66;03m# Gradient evaluation\u001b[39;00m\n\u001b[0;32m    169\u001b[0m \u001b[38;5;28;01mif\u001b[39;00m \u001b[38;5;28mcallable\u001b[39m(grad):\n",
      "File \u001b[1;32mc:\\ProgramData\\anaconda3\\Lib\\site-packages\\scipy\\optimize\\_differentiable_functions.py:262\u001b[0m, in \u001b[0;36mScalarFunction._update_fun\u001b[1;34m(self)\u001b[0m\n\u001b[0;32m    260\u001b[0m \u001b[38;5;28;01mdef\u001b[39;00m \u001b[38;5;21m_update_fun\u001b[39m(\u001b[38;5;28mself\u001b[39m):\n\u001b[0;32m    261\u001b[0m     \u001b[38;5;28;01mif\u001b[39;00m \u001b[38;5;129;01mnot\u001b[39;00m \u001b[38;5;28mself\u001b[39m\u001b[38;5;241m.\u001b[39mf_updated:\n\u001b[1;32m--> 262\u001b[0m         \u001b[38;5;28mself\u001b[39m\u001b[38;5;241m.\u001b[39m_update_fun_impl()\n\u001b[0;32m    263\u001b[0m         \u001b[38;5;28mself\u001b[39m\u001b[38;5;241m.\u001b[39mf_updated \u001b[38;5;241m=\u001b[39m \u001b[38;5;28;01mTrue\u001b[39;00m\n",
      "File \u001b[1;32mc:\\ProgramData\\anaconda3\\Lib\\site-packages\\scipy\\optimize\\_differentiable_functions.py:163\u001b[0m, in \u001b[0;36mScalarFunction.__init__.<locals>.update_fun\u001b[1;34m()\u001b[0m\n\u001b[0;32m    162\u001b[0m \u001b[38;5;28;01mdef\u001b[39;00m \u001b[38;5;21mupdate_fun\u001b[39m():\n\u001b[1;32m--> 163\u001b[0m     \u001b[38;5;28mself\u001b[39m\u001b[38;5;241m.\u001b[39mf \u001b[38;5;241m=\u001b[39m fun_wrapped(\u001b[38;5;28mself\u001b[39m\u001b[38;5;241m.\u001b[39mx)\n",
      "File \u001b[1;32mc:\\ProgramData\\anaconda3\\Lib\\site-packages\\scipy\\optimize\\_differentiable_functions.py:145\u001b[0m, in \u001b[0;36mScalarFunction.__init__.<locals>.fun_wrapped\u001b[1;34m(x)\u001b[0m\n\u001b[0;32m    141\u001b[0m \u001b[38;5;28mself\u001b[39m\u001b[38;5;241m.\u001b[39mnfev \u001b[38;5;241m+\u001b[39m\u001b[38;5;241m=\u001b[39m \u001b[38;5;241m1\u001b[39m\n\u001b[0;32m    142\u001b[0m \u001b[38;5;66;03m# Send a copy because the user may overwrite it.\u001b[39;00m\n\u001b[0;32m    143\u001b[0m \u001b[38;5;66;03m# Overwriting results in undefined behaviour because\u001b[39;00m\n\u001b[0;32m    144\u001b[0m \u001b[38;5;66;03m# fun(self.x) will change self.x, with the two no longer linked.\u001b[39;00m\n\u001b[1;32m--> 145\u001b[0m fx \u001b[38;5;241m=\u001b[39m fun(np\u001b[38;5;241m.\u001b[39mcopy(x), \u001b[38;5;241m*\u001b[39margs)\n\u001b[0;32m    146\u001b[0m \u001b[38;5;66;03m# Make sure the function returns a true scalar\u001b[39;00m\n\u001b[0;32m    147\u001b[0m \u001b[38;5;28;01mif\u001b[39;00m \u001b[38;5;129;01mnot\u001b[39;00m np\u001b[38;5;241m.\u001b[39misscalar(fx):\n",
      "\u001b[1;31mTypeError\u001b[0m: <lambda>() takes 1 positional argument but 2 were given"
     ]
    }
   ],
   "source": [
    "\n",
    "# 求解优化问题\n",
    "weights = ef.nonconvex_objective(lambda w: objective_functions.sharpe_ratio(w, returns, cov_matrix), weights_sum_to_one=True)\n"
   ]
  },
  {
   "cell_type": "code",
   "execution_count": null,
   "id": "3e2354f5",
   "metadata": {},
   "outputs": [],
   "source": []
  },
  {
   "cell_type": "code",
   "execution_count": 73,
   "id": "a12b939f",
   "metadata": {},
   "outputs": [
    {
     "ename": "TypeError",
     "evalue": "HRPOpt.optimize() got an unexpected keyword argument 'risk_budget'",
     "output_type": "error",
     "traceback": [
      "\u001b[1;31m---------------------------------------------------------------------------\u001b[0m",
      "\u001b[1;31mTypeError\u001b[0m                                 Traceback (most recent call last)",
      "Cell \u001b[1;32mIn[73], line 10\u001b[0m\n\u001b[0;32m      8\u001b[0m returns_cleaned \u001b[38;5;241m=\u001b[39m returns\u001b[38;5;241m.\u001b[39mdropna()\n\u001b[0;32m      9\u001b[0m hrp \u001b[38;5;241m=\u001b[39m HRPOpt(returns_cleaned)\n\u001b[1;32m---> 10\u001b[0m hrp\u001b[38;5;241m.\u001b[39moptimize(risk_budget\u001b[38;5;241m=\u001b[39mdynamic_risk_budget(hrp\u001b[38;5;241m.\u001b[39mreturns))\n\u001b[0;32m     12\u001b[0m \u001b[38;5;66;03m# 分层风险平价回测\u001b[39;00m\n\u001b[0;32m     13\u001b[0m perf \u001b[38;5;241m=\u001b[39m hrp\u001b[38;5;241m.\u001b[39mportfolio_performance(verbose\u001b[38;5;241m=\u001b[39m\u001b[38;5;28;01mTrue\u001b[39;00m)\n",
      "\u001b[1;31mTypeError\u001b[0m: HRPOpt.optimize() got an unexpected keyword argument 'risk_budget'"
     ]
    }
   ],
   "source": [
    "\n",
    "# 定义随时间变化的风险预算\n",
    "def dynamic_risk_budget(returns):\n",
    "    # 基于波动率regime调整预算\n",
    "    recent_vol = returns.iloc[-60:].std()\n",
    "    return recent_vol / recent_vol.sum()\n",
    "\n",
    "# 应用时变风险预算\n",
    "returns_cleaned = returns.dropna()\n",
    "hrp = HRPOpt(returns_cleaned)\n",
    "hrp.optimize(risk_budget=dynamic_risk_budget(hrp.returns))\n",
    "\n",
    "# 分层风险平价回测\n",
    "perf = hrp.portfolio_performance(verbose=True)\n",
    "\n",
    "# 与传统方法对比\n",
    "rp = rp.RiskParityPortfolio(cov_matrix=cov_matrix)\n",
    "rp.optimize()\n",
    "print(\"传统风险平价:\", rp.weights)\n",
    "\n",
    "# 绘制有效前沿对比\n",
    "ef = EfficientFrontier(None, cov_matrix)\n",
    "ef.efficient_risk(target_risk=0.15)\n",
    "ef.portfolio_performance(verbose=True)"
   ]
  },
  {
   "cell_type": "code",
   "execution_count": null,
   "id": "f6a34acb",
   "metadata": {},
   "outputs": [],
   "source": []
  },
  {
   "cell_type": "code",
   "execution_count": null,
   "id": "ed7969bd",
   "metadata": {},
   "outputs": [],
   "source": []
  }
 ],
 "metadata": {
  "kernelspec": {
   "display_name": "base",
   "language": "python",
   "name": "python3"
  },
  "language_info": {
   "codemirror_mode": {
    "name": "ipython",
    "version": 3
   },
   "file_extension": ".py",
   "mimetype": "text/x-python",
   "name": "python",
   "nbconvert_exporter": "python",
   "pygments_lexer": "ipython3",
   "version": "3.12.7"
  }
 },
 "nbformat": 4,
 "nbformat_minor": 5
}
