{
 "cells": [
  {
   "cell_type": "code",
   "execution_count": null,
   "id": "b6626851",
   "metadata": {},
   "outputs": [],
   "source": [
    "economic_states = {\n",
    "    '通胀上升+增长上升': ['商品', '周期股'],\n",
    "    '通胀下降+增长上升': ['股票', '信用债'],\n",
    "    '通胀上升+增长下降': ['黄金', '国债'],\n",
    "    '通胀下降+增长下降': ['国债', '防御股']\n",
    "}\n",
    "\n",
    "\n",
    "import os\n",
    "import shutil\n",
    "import pandas as pd\n",
    "import yfinance as yf\n",
    "import riskfolio as rp\n",
    "from pypfopt import risk_models\n",
    "from pypfopt import EfficientFrontier\n",
    "from pypfopt import objective_functions"
   ]
  },
  {
   "cell_type": "code",
   "execution_count": null,
   "id": "b0e79dd1",
   "metadata": {},
   "outputs": [],
   "source": [
    "# Ensure directories for backup and operation exist\n",
    "backup_dir = \"backup_data\"\n",
    "operated_dir = \"operated_data\"\n",
    "os.makedirs(backup_dir, exist_ok=True)\n",
    "os.makedirs(operated_dir, exist_ok=True)\n",
    "\n",
    "# Function to load data from backup or download if not available\n",
    "def load_or_download_data(filename, tickers, start=None, end=None, period=None):\n",
    "    backup_path = os.path.join(backup_dir, filename)\n",
    "    operated_path = os.path.join(operated_dir, filename)\n",
    "\n",
    "    # Check if backup exists\n",
    "    if os.path.exists(backup_path):\n",
    "        print(f\"Loading data from backup: {backup_path}\")\n",
    "        # Copy backup to operated directory\n",
    "        shutil.copy(backup_path, operated_path)\n",
    "    else:\n",
    "        print(f\"Downloading data for: {tickers}\")\n",
    "        if period:\n",
    "            data = yf.download(tickers, period=period)['Adj Close']\n",
    "        else:\n",
    "            data = yf.download(tickers, start=start, end=end)['Adj Close']\n",
    "        # Save to backup and operated directories\n",
    "        data.to_csv(backup_path)\n",
    "        shutil.copy(backup_path, operated_path)\n",
    "\n",
    "    # Load data from operated directory\n",
    "    return pd.read_csv(operated_path, index_col=0, parse_dates=True)"
   ]
  },
  {
   "cell_type": "code",
   "execution_count": null,
   "id": "96bb80ef",
   "metadata": {},
   "outputs": [
    {
     "name": "stderr",
     "output_type": "stream",
     "text": [
      "[*********************100%***********************]  1 of 1 completed\n",
      "\n",
      "1 Failed download:\n",
      "['AAPL']: YFRateLimitError('Too Many Requests. Rate limited. Try after a while.')\n"
     ]
    }
   ],
   "source": [
    "\n",
    "# 获取宏观经济数据（示例：中美30年期国债利差）\n",
    "data = yf.download(['AAPL'], start='1995-01-01')['Adj Close']"
   ]
  },
  {
   "cell_type": "code",
   "execution_count": null,
   "id": "8063e740",
   "metadata": {},
   "outputs": [],
   "source": [
    "macro_data_file = 'macro_data.csv'\n",
    "macro_data = load_or_download_data(macro_data_file, ['^FVX', '^TNX'], start='1995-01-01')"
   ]
  },
  {
   "cell_type": "code",
   "execution_count": null,
   "id": "11155bed",
   "metadata": {},
   "outputs": [],
   "source": [
    "# 计算美债-中债利差\n",
    "debt_spread_file = 'debt_spread.csv'\n",
    "debt_spread = load_or_download_data(debt_spread_file, ['^FVX', '^TNX'], start='1995-01-01')"
   ]
  },
  {
   "cell_type": "code",
   "execution_count": null,
   "id": "41dd2bf7",
   "metadata": {},
   "outputs": [],
   "source": [
    "\n",
    "# 配置四大类资产\n",
    "assets = ['SPY', 'TLT', 'GLD', 'GSG']\n",
    "returns_file = 'asset_returns.csv'\n",
    "returns = load_or_download_data(returns_file, assets, period='30y').pct_change().dropna()\n"
   ]
  },
  {
   "cell_type": "code",
   "execution_count": null,
   "id": "c19a05f9",
   "metadata": {},
   "outputs": [],
   "source": [
    "\n",
    "\n",
    "# 风险平价优化\n",
    "port = rp.Portfolio(returns=returns)\n",
    "port.assets_stats(method_cov='hist')  # 使用EWMA协方差矩阵\n",
    "port.rp_optimization(obj='RiskParity', rf=0, hist=True)\n",
    "print(port.optimized_weights)\n"
   ]
  },
  {
   "cell_type": "code",
   "execution_count": null,
   "id": "7b756065",
   "metadata": {},
   "outputs": [],
   "source": [
    "\n",
    "# 获取多资产数据（含股债商品）\n",
    "prices_file = 'prices.csv'\n",
    "prices = load_or_download_data(prices_file, assets, start=\"1995-01-01\", end=\"2025-04-18\")\n"
   ]
  },
  {
   "cell_type": "code",
   "execution_count": null,
   "id": "0f42ca96",
   "metadata": {},
   "outputs": [],
   "source": [
    "\n",
    "# 创建HRP优化器\n",
    "hrp = HRPOpt(returns=prices.pct_change().dropna())\n",
    "\n",
    "# 改进点：使用Ward方差最小化聚类法\n",
    "hrp.optimize(linkage_method='ward')\n",
    "print(\"分层风险平价权重:\", hrp.clean_weights())\n",
    "\n",
    "# 可视化树状图\n",
    "hrp.plot_clusters()\n",
    "\n",
    "\n",
    "\n",
    "\n",
    "# Ledoit-Wolf 收缩估计（改进协方差矩阵稳定性）\n",
    "cov_matrix = risk_models.CovarianceShrinkage(prices).ledoit_wolf()\n",
    "\n",
    "# 结合半定规划优化\n",
    "hrp = HRPOpt(covariance=cov_matrix, returns=prices.pct_change())\n",
    "hrp.optimize()\n",
    "\n",
    "\n",
    "\n",
    "\n",
    "# 创建风险平价与均值方差混合模型\n",
    "ef = EfficientFrontier(None, cov_matrix)  # 不依赖收益率预测\n",
    "ef.add_objective(objective_functions.risk_parity)\n",
    "\n",
    "# 添加流动性约束（假设流动性数据）\n",
    "liquidity = {\"SPY\":0.9, \"TLT\":0.7, \"GLD\":0.6, \"GSG\":0.5} \n",
    "ef.add_constraint(lambda w: sum([w[i]*liquidity[asset] for i,asset in enumerate(assets)]) >= 0.8)\n",
    "\n",
    "# 求解优化问题\n",
    "weights = ef.nonconvex_objective(objective_functions.sharpe_ratio, weights_sum_to_one=True)\n",
    "\n",
    "\n",
    "# 定义随时间变化的风险预算\n",
    "def dynamic_risk_budget(returns):\n",
    "    # 基于波动率regime调整预算\n",
    "    recent_vol = returns.iloc[-60:].std()\n",
    "    return recent_vol / recent_vol.sum()\n",
    "\n",
    "from pypfopt import RiskParityPortfolio\n",
    "from pypfopt.hierarchical_portfolio import HRPOpt\n",
    "\n",
    "\n",
    "# 应用时变风险预算\n",
    "hrp = HRPOpt(returns)\n",
    "hrp.optimize(risk_budget=dynamic_risk_budget(hrp.returns))\n",
    "\n",
    "\n",
    "# 分层风险平价回测\n",
    "perf = hrp.portfolio_performance(verbose=True)\n",
    "\n",
    "# 与传统方法对比\n",
    "\n",
    "rp = RiskParityPortfolio(cov_matrix=cov_matrix)\n",
    "rp.optimize()\n",
    "print(\"传统风险平价:\", rp.weights)\n",
    "\n",
    "# 绘制有效前沿对比\n",
    "ef = EfficientFrontier(None, cov_matrix)\n",
    "ef.efficient_risk(target_risk=0.15)\n",
    "ef.portfolio_performance(verbose=True)"
   ]
  },
  {
   "cell_type": "code",
   "execution_count": null,
   "id": "f6a34acb",
   "metadata": {},
   "outputs": [],
   "source": []
  },
  {
   "cell_type": "code",
   "execution_count": null,
   "id": "ed7969bd",
   "metadata": {},
   "outputs": [],
   "source": []
  }
 ],
 "metadata": {
  "kernelspec": {
   "display_name": "base",
   "language": "python",
   "name": "python3"
  },
  "language_info": {
   "codemirror_mode": {
    "name": "ipython",
    "version": 3
   },
   "file_extension": ".py",
   "mimetype": "text/x-python",
   "name": "python",
   "nbconvert_exporter": "python",
   "pygments_lexer": "ipython3",
   "version": "3.12.7"
  }
 },
 "nbformat": 4,
 "nbformat_minor": 5
}
